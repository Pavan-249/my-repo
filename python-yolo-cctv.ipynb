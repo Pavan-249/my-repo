{
 "cells": [
  {
   "cell_type": "code",
   "execution_count": 20,
   "metadata": {},
   "outputs": [
    {
     "name": "stdout",
     "output_type": "stream",
     "text": [
      "[INFO] loading YOLO from disk...\n",
      "[INFO] elasped time: 50.54\n",
      "[INFO] approx. FPS: 77.58\n",
      "[INFO] cleaning up...\n"
     ]
    }
   ],
   "source": [
    "# import the necessary packages\n",
    "import numpy as np\n",
    "import argparse\n",
    "import imutils\n",
    "import time\n",
    "import cv2\n",
    "import os\n",
    "from imutils.video import FPS\n",
    "from imutils.video import VideoStream\n",
    "\n",
    "\n",
    "RTSP_URL= \"C:\\\\Users\\\\Hari\\\\Downloads\\\\Computer-Vision-with-Python_2\\\\Computer-Vision-with-Python\\\\06-Deep-Learning-Computer-Vision\\\\06-YOLOv3\\\\videos\\\\test\\\\store-aisle-detection.mp4\"\n",
    "YOLO_PATH=\"yolo-coco\"\n",
    "OUTPUT_FILE=\"output/outfile.avi\"\n",
    "# load the COCO class labels our YOLO model was trained on\n",
    "labelsPath = os.path.sep.join([YOLO_PATH, \"coco.names\"])\n",
    "LABELS = open(labelsPath).read().strip().split(\"\\n\")\n",
    "CONFIDENCE=0.5\n",
    "THRESHOLD=0.3\n",
    "\n",
    "# initialize a list of colors to represent each possible class label\n",
    "np.random.seed(42)\n",
    "COLORS = np.random.randint(0, 255, size=(len(LABELS), 3),dtype=\"uint8\")\n",
    "\n",
    "# derive the paths to the YOLO weights and model configuration\n",
    "weightsPath = os.path.sep.join([YOLO_PATH, \"yolov3.weights\"])\n",
    "configPath = os.path.sep.join([YOLO_PATH, \"yolov3.cfg\"])\n",
    "\n",
    "# load our YOLO object detector trained on COCO dataset (80 classes)\n",
    "# and determine only the *output* layer names that we need from YOLO\n",
    "print(\"[INFO] loading YOLO from disk...\")\n",
    "net = cv2.dnn.readNetFromDarknet(configPath, weightsPath)\n",
    "ln = net.getLayerNames()\n",
    "ln = [ln[i[0] - 1] for i in net.getUnconnectedOutLayers()]\n",
    "\n",
    "# initialize the video stream, pointer to output video file, and\n",
    "# frame dimensions\n",
    "vs = cv2.VideoCapture(RTSP_URL)\n",
    "# vs = cv2.VideoCapture(0)\n",
    "time.sleep(2.0)\n",
    "fps = FPS().start()\n",
    "writer = None\n",
    "(W, H) = (None, None)\n",
    "\n",
    "cnt=0\n",
    "\n",
    "\n",
    "\n",
    "# loop over frames from the video file stream\n",
    "while True:\n",
    "    cnt+=1\n",
    "    # read the next frame from the file\n",
    "    (grabbed, frame) = vs.read()\n",
    "\n",
    "    # if the frame was not grabbed, then we have reached the end\n",
    "    # of the stream\n",
    "    if not grabbed:\n",
    "        break\n",
    "    # if the frame dimensions are empty, grab them\n",
    "    if W is None or H is None:\n",
    "        (H, W) = frame.shape[:2]\n",
    "\n",
    "    # construct a blob from the input frame and then perform a forward\n",
    "    # pass of the YOLO object detector, giving us our bounding boxes\n",
    "    # and associated probabilities\n",
    "    if(cnt%30 == 0):\n",
    "        blob = cv2.dnn.blobFromImage(frame, 1 / 255.0, (416, 416),swapRB=True, crop=False)\n",
    "        net.setInput(blob)\n",
    "        start = time.time()\n",
    "        layerOutputs = net.forward(ln)\n",
    "        end = time.time()\n",
    "        # initialize our lists of detected bounding boxes, confidences,\n",
    "        # and class IDs, respectively\n",
    "        boxes = []\n",
    "        confidences = []\n",
    "        classIDs = []\n",
    "\n",
    "        # loop over each of the layer outputs\n",
    "        for output in layerOutputs:\n",
    "            # loop over each of the detections\n",
    "            for detection in output:\n",
    "                # extract the class ID and confidence (i.e., probability)\n",
    "                # of the current object detection\n",
    "                scores = detection[5:]\n",
    "                classID = np.argmax(scores)\n",
    "                confidence = scores[classID]\n",
    "\n",
    "                # filter out weak predictions by ensuring the detected\n",
    "                # probability is greater than the minimum probability\n",
    "                if confidence > CONFIDENCE:\n",
    "                    # scale the bounding box coordinates back relative to\n",
    "                    # the size of the image, keeping in mind that YOLO\n",
    "                    # actually returns the center (x, y)-coordinates of\n",
    "                    # the bounding box followed by the boxes' width and\n",
    "                    # height\n",
    "                    box = detection[0:4] * np.array([W, H, W, H])\n",
    "                    (centerX, centerY, width, height) = box.astype(\"int\")\n",
    "\n",
    "                    # use the center (x, y)-coordinates to derive the top\n",
    "                    # and and left corner of the bounding box\n",
    "                    x = int(centerX - (width / 2))\n",
    "                    y = int(centerY - (height / 2))\n",
    "\n",
    "                    # update our list of bounding box coordinates,\n",
    "                    # confidences, and class IDs\n",
    "                    boxes.append([x, y, int(width), int(height)])\n",
    "                    confidences.append(float(confidence))\n",
    "                    classIDs.append(classID)\n",
    "\n",
    "        # apply non-maxima suppression to suppress weak, overlapping\n",
    "        # bounding boxes\n",
    "    idxs = cv2.dnn.NMSBoxes(boxes, confidences, CONFIDENCE, THRESHOLD)\n",
    "\n",
    "    # ensure at least one detection exists\n",
    "    if len(idxs) > 0:\n",
    "        # loop over the indexes we are keeping\n",
    "        for i in idxs.flatten():\n",
    "            # extract the bounding box coordinates\n",
    "            (x, y) = (boxes[i][0], boxes[i][1])\n",
    "            (w, h) = (boxes[i][2], boxes[i][3])\n",
    "\n",
    "            # draw a bounding box rectangle and label on the frame\n",
    "            color = [int(c) for c in COLORS[classIDs[i]]]\n",
    "            cv2.rectangle(frame, (x, y), (x + w, y + h), color, 2)\n",
    "            text = \"{}: {:.4f}\".format(LABELS[classIDs[i]], confidences[i])\n",
    "            cv2.putText(frame, text, (x, y - 5), cv2.FONT_HERSHEY_SIMPLEX, 0.5, color, 2)\n",
    "\n",
    "\n",
    "    cv2.imshow(\"Frame\", cv2.resize(frame, (800, 600)))\n",
    "    key = cv2.waitKey(1) & 0xFF\n",
    "    #print (\"key\", key)\n",
    "    # if the `q` key was pressed, break from the loop\n",
    "    if key == ord(\"q\"):\n",
    "        break\n",
    "\n",
    "    # update the FPS counter\n",
    "    fps.update()\n",
    "\n",
    "# stop the timer and display FPS information\n",
    "fps.stop()\n",
    "\n",
    "\n",
    "print(\"[INFO] elasped time: {:.2f}\".format(fps.elapsed()))\n",
    "print(\"[INFO] approx. FPS: {:.2f}\".format(fps.fps()))\n",
    "\n",
    "# do a bit of cleanup\n",
    "cv2.destroyAllWindows()\n",
    "# release the file pointers\n",
    "print(\"[INFO] cleaning up...\")\n",
    "vs.release()\n"
   ]
  },
  {
   "cell_type": "code",
   "execution_count": 21,
   "metadata": {},
   "outputs": [
    {
     "name": "stdout",
     "output_type": "stream",
     "text": [
      "[0.9648265838623047, 0.9579932689666748, 0.9967951774597168, 0.9169735312461853, 0.9865075349807739, 0.5342775583267212, 0.996575117111206, 0.8275232315063477, 0.8932504057884216, 0.9990975260734558, 0.9834385514259338, 0.9315935969352722, 0.9708663821220398, 0.9925567507743835, 0.9985137581825256, 0.882327675819397, 0.9430353045463562, 0.5979639887809753, 0.5223633646965027, 0.7724838256835938, 0.8240010738372803, 0.901584267616272, 0.5795354843139648, 0.7492005825042725, 0.7277642488479614, 0.658200740814209, 0.6824901103973389, 0.5834359526634216, 0.6575490832328796, 0.5872204899787903, 0.5317538380622864, 0.5206746459007263, 0.5675079822540283, 0.827658474445343, 0.8111899495124817, 0.5230939984321594, 0.5202757120132446, 0.5888984799385071]\n"
     ]
    }
   ],
   "source": [
    "print(confidences)"
   ]
  },
  {
   "cell_type": "code",
   "execution_count": 22,
   "metadata": {},
   "outputs": [
    {
     "name": "stdout",
     "output_type": "stream",
     "text": [
      "[0, 0, 0, 0, 0, 0, 0, 0, 0, 0, 0, 0, 0, 0, 0, 0, 0, 41, 45, 45, 45, 45, 45, 45, 45, 45, 45, 45, 45, 45, 45, 45, 45, 45, 45, 45, 45, 45]\n"
     ]
    }
   ],
   "source": [
    "print(classIDs)"
   ]
  },
  {
   "cell_type": "code",
   "execution_count": 24,
   "metadata": {},
   "outputs": [
    {
     "data": {
      "text/plain": [
       "'bowl'"
      ]
     },
     "execution_count": 24,
     "metadata": {},
     "output_type": "execute_result"
    }
   ],
   "source": [
    "LABELS[45]"
   ]
  },
  {
   "cell_type": "code",
   "execution_count": null,
   "metadata": {},
   "outputs": [],
   "source": []
  }
 ],
 "metadata": {
  "kernelspec": {
   "display_name": "Python 3",
   "language": "python",
   "name": "python3"
  },
  "language_info": {
   "codemirror_mode": {
    "name": "ipython",
    "version": 3
   },
   "file_extension": ".py",
   "mimetype": "text/x-python",
   "name": "python",
   "nbconvert_exporter": "python",
   "pygments_lexer": "ipython3",
   "version": "3.8.8"
  }
 },
 "nbformat": 4,
 "nbformat_minor": 2
}
